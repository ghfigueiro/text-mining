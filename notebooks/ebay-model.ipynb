{
 "cells": [
  {
   "cell_type": "markdown",
   "id": "e9d02f34-abc0-472a-9e8e-8f4c08fe947a",
   "metadata": {},
   "source": [
    "# Predicción de categoria de productos"
   ]
  },
  {
   "cell_type": "markdown",
   "id": "afaaf694-9f82-48c6-be8f-6a78dab38f54",
   "metadata": {},
   "source": [
    "### Links\n",
    "\n",
    "- [Text Classification with BERT in PyTorch](https://towardsdatascience.com/text-classification-with-bert-in-pytorch-887965e5820f)\n",
    "- [Best models](https://huggingface.co/models)"
   ]
  },
  {
   "cell_type": "code",
   "execution_count": 1,
   "id": "8dde5e70-5b86-460f-8791-20fcb554c378",
   "metadata": {},
   "outputs": [],
   "source": [
    "%load_ext autoreload\n",
    "%autoreload 2"
   ]
  },
  {
   "cell_type": "code",
   "execution_count": 2,
   "id": "f98e7bf4-f41a-43f6-b7b7-a991d00f82de",
   "metadata": {
    "tags": []
   },
   "outputs": [],
   "source": [
    "import sys\n",
    "sys.path.append('../src')\n",
    "\n",
    "from matplotlib import pyplot as plt\n",
    "import seaborn as sns\n",
    "\n",
    "import numpy  as np\n",
    "import pandas as pd\n",
    "import torch\n",
    "from   torch import nn\n",
    "\n",
    "import logging\n",
    "import random\n",
    "\n",
    "import data  as dt\n",
    "import model as ml\n",
    "import util  as ut\n",
    "import pytorch_common.util as pu"
   ]
  },
  {
   "cell_type": "markdown",
   "id": "40c1da33-a8da-47c9-b174-0b0885b05b50",
   "metadata": {},
   "source": [
    "## Setup"
   ]
  },
  {
   "cell_type": "code",
   "execution_count": 3,
   "id": "f7ba9eb4-2b32-4152-9453-fac1d3737ee2",
   "metadata": {},
   "outputs": [
    {
     "data": {
      "text/html": [
       "<pre style=\"white-space:pre;overflow-x:auto;line-height:normal;font-family:Menlo,'DejaVu Sans Mono',consolas,'Courier New',monospace\"><span style=\"font-weight: bold\">&lt;</span><span style=\"color: #ff00ff; text-decoration-color: #ff00ff; font-weight: bold\">RootLogger</span><span style=\"color: #000000; text-decoration-color: #000000\"> root </span><span style=\"color: #000000; text-decoration-color: #000000; font-weight: bold\">(</span><span style=\"color: #000000; text-decoration-color: #000000\">INFO</span><span style=\"color: #000000; text-decoration-color: #000000; font-weight: bold\">)</span><span style=\"font-weight: bold\">&gt;</span>\n",
       "</pre>\n"
      ],
      "text/plain": [
       "\u001b[1m<\u001b[0m\u001b[1;95mRootLogger\u001b[0m\u001b[39m root \u001b[0m\u001b[1;39m(\u001b[0m\u001b[39mINFO\u001b[0m\u001b[1;39m)\u001b[0m\u001b[1m>\u001b[0m\n"
      ]
     },
     "metadata": {},
     "output_type": "display_data"
    }
   ],
   "source": [
    "pu.LoggerBuilder().on_console().build()"
   ]
  },
  {
   "cell_type": "code",
   "execution_count": 4,
   "id": "d1ba7b0b-b5d8-47ec-8995-642b7b21e6d2",
   "metadata": {},
   "outputs": [
    {
     "data": {
      "text/html": [
       "<pre style=\"white-space:pre;overflow-x:auto;line-height:normal;font-family:Menlo,'DejaVu Sans Mono',consolas,'Courier New',monospace\"><span style=\"color: #00ff00; text-decoration-color: #00ff00; font-style: italic\">True</span>\n",
       "</pre>\n"
      ],
      "text/plain": [
       "\u001b[3;92mTrue\u001b[0m\n"
      ]
     },
     "metadata": {},
     "output_type": "display_data"
    }
   ],
   "source": [
    "torch.cuda.is_available()"
   ]
  },
  {
   "cell_type": "code",
   "execution_count": 5,
   "id": "21fa4041-5682-4332-b139-6aca63d05ea0",
   "metadata": {},
   "outputs": [
    {
     "data": {
      "text/html": [
       "<pre style=\"white-space:pre;overflow-x:auto;line-height:normal;font-family:Menlo,'DejaVu Sans Mono',consolas,'Courier New',monospace\"><span style=\"color: #008000; text-decoration-color: #008000\">'1.12.1+cu116'</span>\n",
       "</pre>\n"
      ],
      "text/plain": [
       "\u001b[32m'1.12.1+cu116'\u001b[0m\n"
      ]
     },
     "metadata": {},
     "output_type": "display_data"
    }
   ],
   "source": [
    "torch.__version__"
   ]
  },
  {
   "cell_type": "code",
   "execution_count": 6,
   "id": "f96b8a74-f2d1-4137-9991-b5dbd9d21b0b",
   "metadata": {},
   "outputs": [
    {
     "name": "stderr",
     "output_type": "stream",
     "text": [
      "2022-08-28 16:27:55,788 - INFO - cuda:0\n"
     ]
    }
   ],
   "source": [
    "pu.set_device_name('gpu')\n",
    "\n",
    "logging.info(pu.get_device())"
   ]
  },
  {
   "cell_type": "code",
   "execution_count": 7,
   "id": "5729b694-b723-4ac9-aebf-11d21a78ac94",
   "metadata": {},
   "outputs": [
    {
     "data": {
      "text/html": [
       "<pre style=\"white-space:pre;overflow-x:auto;line-height:normal;font-family:Menlo,'DejaVu Sans Mono',consolas,'Courier New',monospace\"><span style=\"font-weight: bold\">[</span><span style=\"color: #008000; text-decoration-color: #008000\">'sm_37'</span>, <span style=\"color: #008000; text-decoration-color: #008000\">'sm_50'</span>, <span style=\"color: #008000; text-decoration-color: #008000\">'sm_60'</span>, <span style=\"color: #008000; text-decoration-color: #008000\">'sm_70'</span>, <span style=\"color: #008000; text-decoration-color: #008000\">'sm_75'</span>, <span style=\"color: #008000; text-decoration-color: #008000\">'sm_80'</span>, <span style=\"color: #008000; text-decoration-color: #008000\">'sm_86'</span><span style=\"font-weight: bold\">]</span>\n",
       "</pre>\n"
      ],
      "text/plain": [
       "\u001b[1m[\u001b[0m\u001b[32m'sm_37'\u001b[0m, \u001b[32m'sm_50'\u001b[0m, \u001b[32m'sm_60'\u001b[0m, \u001b[32m'sm_70'\u001b[0m, \u001b[32m'sm_75'\u001b[0m, \u001b[32m'sm_80'\u001b[0m, \u001b[32m'sm_86'\u001b[0m\u001b[1m]\u001b[0m\n"
      ]
     },
     "metadata": {},
     "output_type": "display_data"
    }
   ],
   "source": [
    "torch.cuda.get_arch_list()"
   ]
  },
  {
   "cell_type": "code",
   "execution_count": 8,
   "id": "b5fb890c-e080-4efc-9fc1-08921ae2465f",
   "metadata": {},
   "outputs": [],
   "source": [
    "def set_seed(value):\n",
    "    random.seed(value)\n",
    "    np.random.seed(value)\n",
    "    torch.manual_seed(value)"
   ]
  },
  {
   "cell_type": "code",
   "execution_count": 9,
   "id": "72f9d948-5300-4141-8fbc-4423669b2c58",
   "metadata": {},
   "outputs": [],
   "source": [
    "set_seed(42)"
   ]
  },
  {
   "cell_type": "code",
   "execution_count": 1,
   "id": "d2af7ab1-a7b4-4efa-9422-3077db231f90",
   "metadata": {},
   "outputs": [],
   "source": [
    "DATASET_PATH       = '../datasets'\n",
    "WEIGHTS_PATH       = '../weights'\n",
    "MODEL_WEIGHTS_PATH = f'{WEIGHTS_PATH}/model_weights.h5'\n",
    "\n",
    "!mkdir -p {WEIGHTS_PATH}"
   ]
  },
  {
   "cell_type": "code",
   "execution_count": 11,
   "id": "6e7c3e27-2f3b-4190-96b6-8588d5c16335",
   "metadata": {},
   "outputs": [],
   "source": [
    "BERT_MODEL ='bert-base-cased'\n",
    "# BERT_MODEL ='distilbert-base-uncased'\n",
    "# BERT_MODEL ='albert-base-v2'"
   ]
  },
  {
   "cell_type": "markdown",
   "id": "0c9e4629-8696-4871-9fba-7fb7c95d95ef",
   "metadata": {},
   "source": [
    "## Cargar dataset"
   ]
  },
  {
   "cell_type": "code",
   "execution_count": 12,
   "id": "6481b324-b143-43bf-aa71-5edc12982bcc",
   "metadata": {},
   "outputs": [],
   "source": [
    "train_set = pd.read_csv(f'{DATASET_PATH}/ebay-train.csv')\n",
    "val_set   = pd.read_csv(f'{DATASET_PATH}/ebay-val.csv')\n",
    "test_set  = pd.read_csv(f'{DATASET_PATH}/ebay-test.csv')"
   ]
  },
  {
   "cell_type": "code",
   "execution_count": 13,
   "id": "ae8a4d11-85f5-49af-8f99-1d3d6c075dd6",
   "metadata": {},
   "outputs": [
    {
     "data": {
      "text/html": [
       "<div>\n",
       "<style scoped>\n",
       "    .dataframe tbody tr th:only-of-type {\n",
       "        vertical-align: middle;\n",
       "    }\n",
       "\n",
       "    .dataframe tbody tr th {\n",
       "        vertical-align: top;\n",
       "    }\n",
       "\n",
       "    .dataframe thead th {\n",
       "        text-align: right;\n",
       "    }\n",
       "</style>\n",
       "<table border=\"1\" class=\"dataframe\">\n",
       "  <thead>\n",
       "    <tr style=\"text-align: right;\">\n",
       "      <th></th>\n",
       "      <th>title</th>\n",
       "      <th>category</th>\n",
       "      <th>category_seq</th>\n",
       "    </tr>\n",
       "  </thead>\n",
       "  <tbody>\n",
       "    <tr>\n",
       "      <th>0</th>\n",
       "      <td>2009 Chevrolet Aveo 1.2 LS 5dr Engine Control ...</td>\n",
       "      <td>eBay ~ Vehicle Parts &amp; Accessories ~ Car Parts...</td>\n",
       "      <td>32</td>\n",
       "    </tr>\n",
       "    <tr>\n",
       "      <th>1</th>\n",
       "      <td>1pz Front Shock Absorber SX JAPANPARTS Mm-10068</td>\n",
       "      <td>eBay ~ Vehicle Parts &amp; Accessories ~ Car Parts...</td>\n",
       "      <td>16</td>\n",
       "    </tr>\n",
       "    <tr>\n",
       "      <th>2</th>\n",
       "      <td>Mintex MDC2808C Brake Disc</td>\n",
       "      <td>eBay ~ Vehicle Parts &amp; Accessories ~ Car Parts...</td>\n",
       "      <td>49</td>\n",
       "    </tr>\n",
       "    <tr>\n",
       "      <th>3</th>\n",
       "      <td>Gates T39145 Tensioner</td>\n",
       "      <td>eBay ~ Vehicle Parts &amp; Accessories ~ Car Parts...</td>\n",
       "      <td>87</td>\n",
       "    </tr>\n",
       "    <tr>\n",
       "      <th>4</th>\n",
       "      <td>Gimbal Camera Lens Protector Cover Cap Accesso...</td>\n",
       "      <td>eBay ~ Toys &amp; Games ~ Radio Control &amp; RC Toys ...</td>\n",
       "      <td>5</td>\n",
       "    </tr>\n",
       "  </tbody>\n",
       "</table>\n",
       "</div>"
      ]
     },
     "execution_count": 13,
     "metadata": {},
     "output_type": "execute_result"
    }
   ],
   "source": [
    "train_set.head()"
   ]
  },
  {
   "cell_type": "markdown",
   "id": "be10e8b1-377b-4ac9-8f95-1332fc830d83",
   "metadata": {},
   "source": [
    "Tamaño máximo de la secuencia de entrada:"
   ]
  },
  {
   "cell_type": "code",
   "execution_count": 14,
   "id": "a369af2b-b1ec-47fb-9360-16cce34e790b",
   "metadata": {},
   "outputs": [
    {
     "data": {
      "text/html": [
       "<pre style=\"white-space:pre;overflow-x:auto;line-height:normal;font-family:Menlo,'DejaVu Sans Mono',consolas,'Courier New',monospace\"><span style=\"color: #008080; text-decoration-color: #008080; font-weight: bold\">146</span>\n",
       "</pre>\n"
      ],
      "text/plain": [
       "\u001b[1;36m146\u001b[0m\n"
      ]
     },
     "metadata": {},
     "output_type": "display_data"
    }
   ],
   "source": [
    "max_length = 2 + train_set['title'].apply(len).max()\n",
    "max_length"
   ]
  },
  {
   "cell_type": "code",
   "execution_count": 15,
   "id": "21f35909-cf0e-4369-a3b6-0e9e2355561d",
   "metadata": {},
   "outputs": [],
   "source": [
    "tokenizer = ml.Tokenizer(\n",
    "    BERT_MODEL,\n",
    "    padding    = 'max_length',\n",
    "    max_length = max_length\n",
    ")"
   ]
  },
  {
   "cell_type": "code",
   "execution_count": 16,
   "id": "695c5922-4b8b-45eb-be1b-507c72a50bc1",
   "metadata": {},
   "outputs": [],
   "source": [
    "train_dataset = dt.BertDataset(\n",
    "    train_set,\n",
    "    feature_col = 'title', \n",
    "    target_col  = 'category_seq',\n",
    "    tokenizer   = tokenizer\n",
    ")\n",
    "\n",
    "val_dataset = dt.BertDataset(\n",
    "    val_set,\n",
    "    feature_col = 'title', \n",
    "    target_col  = 'category_seq',\n",
    "    tokenizer   = tokenizer\n",
    ")\n",
    "\n",
    "test_dataset = dt.BertDataset(\n",
    "    test_set,\n",
    "    feature_col = 'title', \n",
    "    target_col  = 'category_seq',\n",
    "    tokenizer   = tokenizer\n",
    ")"
   ]
  },
  {
   "cell_type": "markdown",
   "id": "77408547-2400-43c0-911c-dd474feea294",
   "metadata": {},
   "source": [
    "Cantidad de clases a predecir:"
   ]
  },
  {
   "cell_type": "code",
   "execution_count": 17,
   "id": "0f257b37-2208-4e03-8ffd-fef177230e16",
   "metadata": {},
   "outputs": [
    {
     "data": {
      "text/html": [
       "<pre style=\"white-space:pre;overflow-x:auto;line-height:normal;font-family:Menlo,'DejaVu Sans Mono',consolas,'Courier New',monospace\"><span style=\"color: #008080; text-decoration-color: #008080; font-weight: bold\">122</span>\n",
       "</pre>\n"
      ],
      "text/plain": [
       "\u001b[1;36m122\u001b[0m\n"
      ]
     },
     "metadata": {},
     "output_type": "display_data"
    }
   ],
   "source": [
    "n_classes = train_set['category'].unique().shape[0]\n",
    "n_classes"
   ]
  },
  {
   "cell_type": "code",
   "execution_count": 18,
   "id": "e5d92c27-55a5-4331-af7b-04a1cf5a964c",
   "metadata": {},
   "outputs": [],
   "source": [
    "classifier = ml.BertClassifier(\n",
    "    output_dim = n_classes,\n",
    "    model      = BERT_MODEL,\n",
    "    dropout    = 0.1\n",
    ")"
   ]
  },
  {
   "cell_type": "markdown",
   "id": "687475f3-bdea-47f9-9c29-4e193a03e10d",
   "metadata": {},
   "source": [
    "## Entrenamiento y evaluación"
   ]
  },
  {
   "cell_type": "code",
   "execution_count": 19,
   "id": "e8ce37fa-1873-454e-a890-783f61c768b4",
   "metadata": {},
   "outputs": [],
   "source": [
    "classifier.load(MODEL_WEIGHTS_PATH)"
   ]
  },
  {
   "cell_type": "code",
   "execution_count": 20,
   "id": "569c3ed4-38a9-42a7-b4be-de7097101e69",
   "metadata": {},
   "outputs": [],
   "source": [
    "model = ml.BertModel(\n",
    "    classifier,\n",
    "    batch_size = 25,\n",
    "    criterion  = nn.CrossEntropyLoss(), \n",
    "    optimizer  = torch.optim.Adam(classifier.parameters(), lr = 0.0000001)\n",
    ")"
   ]
  },
  {
   "cell_type": "code",
   "execution_count": 26,
   "id": "e913f070-d85c-43f5-8c2b-979da1c53028",
   "metadata": {},
   "outputs": [
    {
     "name": "stderr",
     "output_type": "stream",
     "text": [
      "2022-08-28 16:37:42,651 - INFO - Time: 0:00:12.30 | Epoch: 1 | Train(loss: 0.003595, acc: 99.94%) | Val(loss: 0.037137, acc: 82.47%) | acc diff: 17.47%\n",
      "2022-08-28 16:37:54,926 - INFO - Time: 0:00:12.27 | Epoch: 2 | Train(loss: 0.003462, acc: 99.94%) | Val(loss: 0.037409, acc: 83.51%) | acc diff: 16.44%\n"
     ]
    },
    {
     "data": {
      "text/html": [
       "<pre style=\"white-space:pre;overflow-x:auto;line-height:normal;font-family:Menlo,'DejaVu Sans Mono',consolas,'Courier New',monospace\"><span style=\"font-weight: bold\">{</span><span style=\"color: #008000; text-decoration-color: #008000\">'loss'</span>: <span style=\"color: #008080; text-decoration-color: #008080; font-weight: bold\">0.003462247916345029</span>, <span style=\"color: #008000; text-decoration-color: #008000\">'acc'</span>: <span style=\"color: #008080; text-decoration-color: #008080; font-weight: bold\">0.9994222992489891</span><span style=\"font-weight: bold\">}</span>\n",
       "</pre>\n"
      ],
      "text/plain": [
       "\u001b[1m{\u001b[0m\u001b[32m'loss'\u001b[0m: \u001b[1;36m0.003462247916345029\u001b[0m, \u001b[32m'acc'\u001b[0m: \u001b[1;36m0.9994222992489891\u001b[0m\u001b[1m}\u001b[0m\n"
      ]
     },
     "metadata": {},
     "output_type": "display_data"
    }
   ],
   "source": [
    "model.fit(train_dataset, val_dataset, epochs=2)"
   ]
  },
  {
   "cell_type": "code",
   "execution_count": 30,
   "id": "198900ca-913a-4405-9634-97aafbc7c0de",
   "metadata": {},
   "outputs": [],
   "source": [
    "classifier.save(MODEL_WEIGHTS_PATH)"
   ]
  },
  {
   "cell_type": "code",
   "execution_count": 31,
   "id": "d59e213f-f799-4cc2-9653-df2f07c5fdec",
   "metadata": {},
   "outputs": [
    {
     "data": {
      "text/html": [
       "<pre style=\"white-space:pre;overflow-x:auto;line-height:normal;font-family:Menlo,'DejaVu Sans Mono',consolas,'Courier New',monospace\"><span style=\"font-weight: bold\">{</span><span style=\"color: #008000; text-decoration-color: #008000\">'loss'</span>: <span style=\"color: #008080; text-decoration-color: #008080; font-weight: bold\">0.04247150073448817</span>, <span style=\"color: #008000; text-decoration-color: #008000\">'acc'</span>: <span style=\"color: #008080; text-decoration-color: #008080; font-weight: bold\">0.7916666666666666</span><span style=\"font-weight: bold\">}</span>\n",
       "</pre>\n"
      ],
      "text/plain": [
       "\u001b[1m{\u001b[0m\u001b[32m'loss'\u001b[0m: \u001b[1;36m0.04247150073448817\u001b[0m, \u001b[32m'acc'\u001b[0m: \u001b[1;36m0.7916666666666666\u001b[0m\u001b[1m}\u001b[0m\n"
      ]
     },
     "metadata": {},
     "output_type": "display_data"
    }
   ],
   "source": [
    "model.validate(test_dataset)"
   ]
  }
 ],
 "metadata": {
  "kernelspec": {
   "display_name": "Python 3 (ipykernel)",
   "language": "python",
   "name": "python3"
  },
  "language_info": {
   "codemirror_mode": {
    "name": "ipython",
    "version": 3
   },
   "file_extension": ".py",
   "mimetype": "text/x-python",
   "name": "python",
   "nbconvert_exporter": "python",
   "pygments_lexer": "ipython3",
   "version": "3.10.4"
  },
  "widgets": {
   "application/vnd.jupyter.widget-state+json": {
    "state": {},
    "version_major": 2,
    "version_minor": 0
   }
  }
 },
 "nbformat": 4,
 "nbformat_minor": 5
}
