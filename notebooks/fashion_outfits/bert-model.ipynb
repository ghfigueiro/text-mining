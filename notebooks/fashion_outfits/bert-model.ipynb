{
 "cells": [
  {
   "cell_type": "markdown",
   "id": "e9d02f34-abc0-472a-9e8e-8f4c08fe947a",
   "metadata": {},
   "source": [
    "# Predicción de categoria de productos"
   ]
  },
  {
   "cell_type": "markdown",
   "id": "afaaf694-9f82-48c6-be8f-6a78dab38f54",
   "metadata": {},
   "source": [
    "### Links\n",
    "\n",
    "- [Text Classification with BERT in PyTorch](https://towardsdatascience.com/text-classification-with-bert-in-pytorch-887965e5820f)\n",
    "- [Best models](https://huggingface.co/models)"
   ]
  },
  {
   "cell_type": "code",
   "execution_count": 1,
   "id": "8dde5e70-5b86-460f-8791-20fcb554c378",
   "metadata": {},
   "outputs": [],
   "source": [
    "%load_ext autoreload\n",
    "%autoreload 2"
   ]
  },
  {
   "cell_type": "code",
   "execution_count": 2,
   "id": "f98e7bf4-f41a-43f6-b7b7-a991d00f82de",
   "metadata": {
    "tags": []
   },
   "outputs": [],
   "source": [
    "import sys\n",
    "sys.path.append('../../src')\n",
    "\n",
    "from matplotlib import pyplot as plt\n",
    "import seaborn as sns\n",
    "\n",
    "import numpy  as np\n",
    "import pandas as pd\n",
    "import torch\n",
    "from   torch import nn\n",
    "\n",
    "import logging\n",
    "import random\n",
    "\n",
    "import data  as dt\n",
    "import model as ml\n",
    "import util  as ut\n",
    "import pytorch_common.util as pu"
   ]
  },
  {
   "cell_type": "markdown",
   "id": "40c1da33-a8da-47c9-b174-0b0885b05b50",
   "metadata": {},
   "source": [
    "## Setup"
   ]
  },
  {
   "cell_type": "markdown",
   "id": "377cb992-05ee-4a22-90c1-34e508d76f49",
   "metadata": {},
   "source": [
    "Se configura el default logger para que la consola sea el output y loguee mensajes a partir del nivel INFO."
   ]
  },
  {
   "cell_type": "code",
   "execution_count": 3,
   "id": "f7ba9eb4-2b32-4152-9453-fac1d3737ee2",
   "metadata": {},
   "outputs": [
    {
     "data": {
      "text/html": [
       "<pre style=\"white-space:pre;overflow-x:auto;line-height:normal;font-family:Menlo,'DejaVu Sans Mono',consolas,'Courier New',monospace\"><span style=\"font-weight: bold\">&lt;</span><span style=\"color: #ff00ff; text-decoration-color: #ff00ff; font-weight: bold\">RootLogger</span><span style=\"color: #000000; text-decoration-color: #000000\"> root </span><span style=\"color: #000000; text-decoration-color: #000000; font-weight: bold\">(</span><span style=\"color: #000000; text-decoration-color: #000000\">INFO</span><span style=\"color: #000000; text-decoration-color: #000000; font-weight: bold\">)</span><span style=\"font-weight: bold\">&gt;</span>\n",
       "</pre>\n"
      ],
      "text/plain": [
       "\u001b[1m<\u001b[0m\u001b[1;95mRootLogger\u001b[0m\u001b[39m root \u001b[0m\u001b[1;39m(\u001b[0m\u001b[39mINFO\u001b[0m\u001b[1;39m)\u001b[0m\u001b[1m>\u001b[0m\n"
      ]
     },
     "metadata": {},
     "output_type": "display_data"
    }
   ],
   "source": [
    "pu.LoggerBuilder().on_console().build()"
   ]
  },
  {
   "cell_type": "markdown",
   "id": "7482cd3f-25df-4de1-9f09-01c630019019",
   "metadata": {},
   "source": [
    "Por defecto usamos GPU. De no existir este hardware, el fallback es CPU:"
   ]
  },
  {
   "cell_type": "code",
   "execution_count": 4,
   "id": "d1ba7b0b-b5d8-47ec-8995-642b7b21e6d2",
   "metadata": {},
   "outputs": [
    {
     "data": {
      "text/html": [
       "<pre style=\"white-space:pre;overflow-x:auto;line-height:normal;font-family:Menlo,'DejaVu Sans Mono',consolas,'Courier New',monospace\"><span style=\"color: #00ff00; text-decoration-color: #00ff00; font-style: italic\">True</span>\n",
       "</pre>\n"
      ],
      "text/plain": [
       "\u001b[3;92mTrue\u001b[0m\n"
      ]
     },
     "metadata": {},
     "output_type": "display_data"
    }
   ],
   "source": [
    "torch.cuda.is_available()"
   ]
  },
  {
   "cell_type": "code",
   "execution_count": 5,
   "id": "21fa4041-5682-4332-b139-6aca63d05ea0",
   "metadata": {},
   "outputs": [
    {
     "data": {
      "text/html": [
       "<pre style=\"white-space:pre;overflow-x:auto;line-height:normal;font-family:Menlo,'DejaVu Sans Mono',consolas,'Courier New',monospace\"><span style=\"color: #008000; text-decoration-color: #008000\">'1.12.1+cu116'</span>\n",
       "</pre>\n"
      ],
      "text/plain": [
       "\u001b[32m'1.12.1+cu116'\u001b[0m\n"
      ]
     },
     "metadata": {},
     "output_type": "display_data"
    }
   ],
   "source": [
    "torch.__version__"
   ]
  },
  {
   "cell_type": "code",
   "execution_count": 6,
   "id": "f96b8a74-f2d1-4137-9991-b5dbd9d21b0b",
   "metadata": {},
   "outputs": [
    {
     "name": "stderr",
     "output_type": "stream",
     "text": [
      "2022-09-18 17:36:45,753 - INFO - cuda:0\n"
     ]
    }
   ],
   "source": [
    "pu.set_device_name('gpu')\n",
    "\n",
    "logging.info(pu.get_device())"
   ]
  },
  {
   "cell_type": "code",
   "execution_count": 7,
   "id": "5729b694-b723-4ac9-aebf-11d21a78ac94",
   "metadata": {},
   "outputs": [
    {
     "data": {
      "text/html": [
       "<pre style=\"white-space:pre;overflow-x:auto;line-height:normal;font-family:Menlo,'DejaVu Sans Mono',consolas,'Courier New',monospace\"><span style=\"font-weight: bold\">[</span><span style=\"color: #008000; text-decoration-color: #008000\">'sm_37'</span>, <span style=\"color: #008000; text-decoration-color: #008000\">'sm_50'</span>, <span style=\"color: #008000; text-decoration-color: #008000\">'sm_60'</span>, <span style=\"color: #008000; text-decoration-color: #008000\">'sm_70'</span>, <span style=\"color: #008000; text-decoration-color: #008000\">'sm_75'</span>, <span style=\"color: #008000; text-decoration-color: #008000\">'sm_80'</span>, <span style=\"color: #008000; text-decoration-color: #008000\">'sm_86'</span><span style=\"font-weight: bold\">]</span>\n",
       "</pre>\n"
      ],
      "text/plain": [
       "\u001b[1m[\u001b[0m\u001b[32m'sm_37'\u001b[0m, \u001b[32m'sm_50'\u001b[0m, \u001b[32m'sm_60'\u001b[0m, \u001b[32m'sm_70'\u001b[0m, \u001b[32m'sm_75'\u001b[0m, \u001b[32m'sm_80'\u001b[0m, \u001b[32m'sm_86'\u001b[0m\u001b[1m]\u001b[0m\n"
      ]
     },
     "metadata": {},
     "output_type": "display_data"
    }
   ],
   "source": [
    "torch.cuda.get_arch_list()"
   ]
  },
  {
   "cell_type": "markdown",
   "id": "9e74cfeb-e867-4224-92a9-708814a10ccd",
   "metadata": {},
   "source": [
    "Fijamos la semilla:"
   ]
  },
  {
   "cell_type": "code",
   "execution_count": 8,
   "id": "b5fb890c-e080-4efc-9fc1-08921ae2465f",
   "metadata": {},
   "outputs": [],
   "source": [
    "def set_seed(value):\n",
    "    random.seed(value)\n",
    "    np.random.seed(value)\n",
    "    torch.manual_seed(value)"
   ]
  },
  {
   "cell_type": "code",
   "execution_count": 9,
   "id": "72f9d948-5300-4141-8fbc-4423669b2c58",
   "metadata": {},
   "outputs": [],
   "source": [
    "set_seed(42)"
   ]
  },
  {
   "cell_type": "markdown",
   "id": "9d4ed79e-a213-40cf-ac76-79acb1ee6696",
   "metadata": {},
   "source": [
    "Parametros de la notebook:"
   ]
  },
  {
   "cell_type": "code",
   "execution_count": 10,
   "id": "d2af7ab1-a7b4-4efa-9422-3077db231f90",
   "metadata": {},
   "outputs": [],
   "source": [
    "DATASET_PATH       = '../../datasets/fashion-outfits'\n",
    "WEIGHTS_PATH       = '../../weights'\n",
    "MODEL_WEIGHTS_PATH = f'{WEIGHTS_PATH}/model_weights.h5'\n",
    "\n",
    "!mkdir -p {WEIGHTS_PATH}"
   ]
  },
  {
   "cell_type": "markdown",
   "id": "c18fabe0-c64b-4d19-b871-224cfae19e05",
   "metadata": {},
   "source": [
    "Modelo pre entrenado a utilizar. Este es una capa/module mas de nuestro modelo:"
   ]
  },
  {
   "cell_type": "code",
   "execution_count": 11,
   "id": "6e7c3e27-2f3b-4190-96b6-8588d5c16335",
   "metadata": {},
   "outputs": [],
   "source": [
    "BERT_MODEL ='bert-base-cased'\n",
    "# BERT_MODEL ='distilbert-base-uncased'\n",
    "# BERT_MODEL ='albert-base-v2'"
   ]
  },
  {
   "cell_type": "markdown",
   "id": "0c9e4629-8696-4871-9fba-7fb7c95d95ef",
   "metadata": {},
   "source": [
    "## Cargar dataset"
   ]
  },
  {
   "cell_type": "code",
   "execution_count": 12,
   "id": "6481b324-b143-43bf-aa71-5edc12982bcc",
   "metadata": {},
   "outputs": [],
   "source": [
    "train_set = pd.read_csv(f'{DATASET_PATH}/train.csv')\n",
    "val_set   = pd.read_csv(f'{DATASET_PATH}/val.csv')\n",
    "test_set  = pd.read_csv(f'{DATASET_PATH}/test.csv')"
   ]
  },
  {
   "cell_type": "code",
   "execution_count": 13,
   "id": "ae8a4d11-85f5-49af-8f99-1d3d6c075dd6",
   "metadata": {},
   "outputs": [
    {
     "data": {
      "text/html": [
       "<div>\n",
       "<style scoped>\n",
       "    .dataframe tbody tr th:only-of-type {\n",
       "        vertical-align: middle;\n",
       "    }\n",
       "\n",
       "    .dataframe tbody tr th {\n",
       "        vertical-align: top;\n",
       "    }\n",
       "\n",
       "    .dataframe thead th {\n",
       "        text-align: right;\n",
       "    }\n",
       "</style>\n",
       "<table border=\"1\" class=\"dataframe\">\n",
       "  <thead>\n",
       "    <tr style=\"text-align: right;\">\n",
       "      <th></th>\n",
       "      <th>id</th>\n",
       "      <th>family</th>\n",
       "      <th>category</th>\n",
       "      <th>sub_category</th>\n",
       "      <th>description</th>\n",
       "      <th>highlights</th>\n",
       "      <th>brand</th>\n",
       "      <th>gender</th>\n",
       "      <th>materials</th>\n",
       "      <th>branch</th>\n",
       "      <th>branch_seq</th>\n",
       "    </tr>\n",
       "  </thead>\n",
       "  <tbody>\n",
       "    <tr>\n",
       "      <th>0</th>\n",
       "      <td>17162989</td>\n",
       "      <td>clothing</td>\n",
       "      <td>dresses</td>\n",
       "      <td>cocktail &amp; party dresses</td>\n",
       "      <td>polka-dot long-sleeve dress</td>\n",
       "      <td>[black/gold-tone, metallic threading, polka do...</td>\n",
       "      <td>zimmermann</td>\n",
       "      <td>women</td>\n",
       "      <td>['Silk' 'viscose' 'Metallic Fibre']</td>\n",
       "      <td>clothing~dresses~cocktail &amp; party dresses</td>\n",
       "      <td>140</td>\n",
       "    </tr>\n",
       "    <tr>\n",
       "      <th>1</th>\n",
       "      <td>17037913</td>\n",
       "      <td>clothing</td>\n",
       "      <td>jackets</td>\n",
       "      <td>fitted jackets</td>\n",
       "      <td>zip-up hooded jacket</td>\n",
       "      <td>[white, front zip fastening, classic hood, lon...</td>\n",
       "      <td>k-way r&amp;d</td>\n",
       "      <td>women</td>\n",
       "      <td>['Polyester']</td>\n",
       "      <td>clothing~jackets~fitted jackets</td>\n",
       "      <td>100</td>\n",
       "    </tr>\n",
       "    <tr>\n",
       "      <th>2</th>\n",
       "      <td>17219240</td>\n",
       "      <td>clothing</td>\n",
       "      <td>denim</td>\n",
       "      <td>wide-leg jeans</td>\n",
       "      <td>panelled wide-leg jeans</td>\n",
       "      <td>[black, cotton, panelled design, crescent moon...</td>\n",
       "      <td>marine serre</td>\n",
       "      <td>women</td>\n",
       "      <td>['Cotton']</td>\n",
       "      <td>clothing~denim~wide-leg jeans</td>\n",
       "      <td>77</td>\n",
       "    </tr>\n",
       "    <tr>\n",
       "      <th>3</th>\n",
       "      <td>17404088</td>\n",
       "      <td>clothing</td>\n",
       "      <td>trousers</td>\n",
       "      <td>cropped trousers</td>\n",
       "      <td>slim-cut tailored trousers</td>\n",
       "      <td>[black, belt loops, hook and zip fly fastening...</td>\n",
       "      <td>merci</td>\n",
       "      <td>women</td>\n",
       "      <td>['viscose' 'Spandex/Elastane' 'Polyester']</td>\n",
       "      <td>clothing~trousers~cropped trousers</td>\n",
       "      <td>5</td>\n",
       "    </tr>\n",
       "    <tr>\n",
       "      <th>4</th>\n",
       "      <td>17052498</td>\n",
       "      <td>clothing</td>\n",
       "      <td>tops</td>\n",
       "      <td>sweatshirts</td>\n",
       "      <td>bead-embellished crewneck sweatshirt</td>\n",
       "      <td>[black, cotton, bead embellishment, crew neck,...</td>\n",
       "      <td>alexandre vauthier</td>\n",
       "      <td>women</td>\n",
       "      <td>['glass' 'Cotton' 'Lambskin']</td>\n",
       "      <td>clothing~tops~sweatshirts</td>\n",
       "      <td>45</td>\n",
       "    </tr>\n",
       "  </tbody>\n",
       "</table>\n",
       "</div>"
      ]
     },
     "execution_count": 13,
     "metadata": {},
     "output_type": "execute_result"
    }
   ],
   "source": [
    "train_set.head()"
   ]
  },
  {
   "cell_type": "code",
   "execution_count": 14,
   "id": "dc6c59ca-9fe6-4cd8-b201-6e48bb737963",
   "metadata": {},
   "outputs": [
    {
     "name": "stdout",
     "output_type": "stream",
     "text": [
      "<class 'pandas.core.frame.DataFrame'>\n",
      "RangeIndex: 92151 entries, 0 to 92150\n",
      "Data columns (total 11 columns):\n",
      " #   Column        Non-Null Count  Dtype \n",
      "---  ------        --------------  ----- \n",
      " 0   id            92151 non-null  int64 \n",
      " 1   family        92151 non-null  object\n",
      " 2   category      92151 non-null  object\n",
      " 3   sub_category  92151 non-null  object\n",
      " 4   description   92148 non-null  object\n",
      " 5   highlights    87976 non-null  object\n",
      " 6   brand         92151 non-null  object\n",
      " 7   gender        92151 non-null  object\n",
      " 8   materials     92115 non-null  object\n",
      " 9   branch        92151 non-null  object\n",
      " 10  branch_seq    92151 non-null  int64 \n",
      "dtypes: int64(2), object(9)\n",
      "memory usage: 7.7+ MB\n"
     ]
    }
   ],
   "source": [
    "train_set.info()"
   ]
  },
  {
   "cell_type": "code",
   "execution_count": 15,
   "id": "2101e211-6618-4ea8-b913-57114c35e182",
   "metadata": {},
   "outputs": [],
   "source": [
    "train_set['description'] = train_set['description'].apply(str)\n",
    "val_set['description']   = val_set['description'].apply(str)\n",
    "test_set['description']  = test_set['description'].apply(str)"
   ]
  },
  {
   "cell_type": "markdown",
   "id": "be10e8b1-377b-4ac9-8f95-1332fc830d83",
   "metadata": {},
   "source": [
    "Tamaño máximo de la secuencia de entrada:"
   ]
  },
  {
   "cell_type": "code",
   "execution_count": 16,
   "id": "a369af2b-b1ec-47fb-9360-16cce34e790b",
   "metadata": {},
   "outputs": [
    {
     "data": {
      "text/html": [
       "<pre style=\"white-space:pre;overflow-x:auto;line-height:normal;font-family:Menlo,'DejaVu Sans Mono',consolas,'Courier New',monospace\"><span style=\"color: #008080; text-decoration-color: #008080; font-weight: bold\">88</span>\n",
       "</pre>\n"
      ],
      "text/plain": [
       "\u001b[1;36m88\u001b[0m\n"
      ]
     },
     "metadata": {},
     "output_type": "display_data"
    }
   ],
   "source": [
    "max_length = 2 + train_set['description'].apply(len).max()\n",
    "max_length"
   ]
  },
  {
   "cell_type": "code",
   "execution_count": 17,
   "id": "21f35909-cf0e-4369-a3b6-0e9e2355561d",
   "metadata": {},
   "outputs": [],
   "source": [
    "tokenizer = ml.Tokenizer(\n",
    "    BERT_MODEL,\n",
    "    padding    = 'max_length',\n",
    "    max_length = max_length\n",
    ")"
   ]
  },
  {
   "cell_type": "code",
   "execution_count": 18,
   "id": "695c5922-4b8b-45eb-be1b-507c72a50bc1",
   "metadata": {},
   "outputs": [],
   "source": [
    "train_dataset = dt.BertDataset(\n",
    "    train_set,\n",
    "    feature_col = 'description', \n",
    "    target_col  = 'branch_seq',\n",
    "    tokenizer   = tokenizer\n",
    ")\n",
    "\n",
    "val_dataset = dt.BertDataset(\n",
    "    val_set,\n",
    "    feature_col = 'description', \n",
    "    target_col  = 'branch_seq',\n",
    "    tokenizer   = tokenizer\n",
    ")\n",
    "\n",
    "test_dataset = dt.BertDataset(\n",
    "    test_set,\n",
    "    feature_col = 'description', \n",
    "    target_col  = 'branch_seq',\n",
    "    tokenizer   = tokenizer\n",
    ")"
   ]
  },
  {
   "cell_type": "markdown",
   "id": "77408547-2400-43c0-911c-dd474feea294",
   "metadata": {},
   "source": [
    "Cantidad de clases a predecir:"
   ]
  },
  {
   "cell_type": "code",
   "execution_count": 19,
   "id": "0f257b37-2208-4e03-8ffd-fef177230e16",
   "metadata": {},
   "outputs": [
    {
     "data": {
      "text/html": [
       "<pre style=\"white-space:pre;overflow-x:auto;line-height:normal;font-family:Menlo,'DejaVu Sans Mono',consolas,'Courier New',monospace\"><span style=\"color: #008080; text-decoration-color: #008080; font-weight: bold\">318</span>\n",
       "</pre>\n"
      ],
      "text/plain": [
       "\u001b[1;36m318\u001b[0m\n"
      ]
     },
     "metadata": {},
     "output_type": "display_data"
    }
   ],
   "source": [
    "n_classes = train_set['branch_seq'].max() + 1\n",
    "n_classes"
   ]
  },
  {
   "cell_type": "code",
   "execution_count": 20,
   "id": "e5d92c27-55a5-4331-af7b-04a1cf5a964c",
   "metadata": {},
   "outputs": [],
   "source": [
    "classifier = ml.BertClassifier(\n",
    "    output_dim = n_classes,\n",
    "    model      = BERT_MODEL,\n",
    "    dropout    = 0.1\n",
    ")"
   ]
  },
  {
   "cell_type": "markdown",
   "id": "687475f3-bdea-47f9-9c29-4e193a03e10d",
   "metadata": {},
   "source": [
    "## Entrenamiento y evaluación"
   ]
  },
  {
   "cell_type": "code",
   "execution_count": 21,
   "id": "e8ce37fa-1873-454e-a890-783f61c768b4",
   "metadata": {},
   "outputs": [],
   "source": [
    "# classifier.load(MODEL_WEIGHTS_PATH)"
   ]
  },
  {
   "cell_type": "code",
   "execution_count": 22,
   "id": "569c3ed4-38a9-42a7-b4be-de7097101e69",
   "metadata": {},
   "outputs": [],
   "source": [
    "model = ml.BertModel(\n",
    "    classifier,\n",
    "    batch_size = 70,\n",
    "    criterion  = nn.CrossEntropyLoss(), \n",
    "    optimizer  = torch.optim.Adam(classifier.parameters(), lr = 0.0000001)\n",
    ")"
   ]
  },
  {
   "cell_type": "code",
   "execution_count": null,
   "id": "e913f070-d85c-43f5-8c2b-979da1c53028",
   "metadata": {},
   "outputs": [],
   "source": [
    "model.fit(train_dataset, val_dataset, epochs=2)"
   ]
  },
  {
   "cell_type": "code",
   "execution_count": null,
   "id": "198900ca-913a-4405-9634-97aafbc7c0de",
   "metadata": {},
   "outputs": [],
   "source": [
    "classifier.save(MODEL_WEIGHTS_PATH)"
   ]
  },
  {
   "cell_type": "code",
   "execution_count": null,
   "id": "d59e213f-f799-4cc2-9653-df2f07c5fdec",
   "metadata": {},
   "outputs": [],
   "source": [
    "summary = model.validate(test_dataset)"
   ]
  },
  {
   "cell_type": "code",
   "execution_count": null,
   "id": "d3d65f4a-276e-46da-853e-51848a9dc3ea",
   "metadata": {},
   "outputs": [],
   "source": [
    "summary.accuracy, summary.loss"
   ]
  },
  {
   "cell_type": "code",
   "execution_count": null,
   "id": "20db1ce1-2bf2-4146-ae11-1a91e55ca38a",
   "metadata": {},
   "outputs": [],
   "source": [
    "summary.targets"
   ]
  },
  {
   "cell_type": "code",
   "execution_count": null,
   "id": "fe6d3eda-be90-45ec-b5f4-d6c646516bbd",
   "metadata": {},
   "outputs": [],
   "source": [
    "summary.predictions"
   ]
  },
  {
   "cell_type": "code",
   "execution_count": null,
   "id": "6023530d-decd-4959-9703-fb28f1713de8",
   "metadata": {},
   "outputs": [],
   "source": [
    "np.concatenate(summary.predictions).shape"
   ]
  },
  {
   "cell_type": "code",
   "execution_count": null,
   "id": "a6965cb3-e52f-4c7e-af6c-b3d1f7871a26",
   "metadata": {},
   "outputs": [],
   "source": [
    "summary.show_sample_metrics(0)"
   ]
  },
  {
   "cell_type": "code",
   "execution_count": null,
   "id": "def70a8b-d86b-4344-8757-e7a093aac37f",
   "metadata": {},
   "outputs": [],
   "source": [
    "summary.show_sample_metrics(1)"
   ]
  },
  {
   "cell_type": "code",
   "execution_count": null,
   "id": "d19ded13-95e7-4db8-b88c-fd0ce2560030",
   "metadata": {},
   "outputs": [],
   "source": [
    "summary.show_metrics()"
   ]
  }
 ],
 "metadata": {
  "kernelspec": {
   "display_name": "Python 3 (ipykernel)",
   "language": "python",
   "name": "python3"
  },
  "language_info": {
   "codemirror_mode": {
    "name": "ipython",
    "version": 3
   },
   "file_extension": ".py",
   "mimetype": "text/x-python",
   "name": "python",
   "nbconvert_exporter": "python",
   "pygments_lexer": "ipython3",
   "version": "3.10.4"
  },
  "widgets": {
   "application/vnd.jupyter.widget-state+json": {
    "state": {},
    "version_major": 2,
    "version_minor": 0
   }
  }
 },
 "nbformat": 4,
 "nbformat_minor": 5
}
